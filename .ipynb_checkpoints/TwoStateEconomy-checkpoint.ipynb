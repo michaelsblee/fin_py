{
 "cells": [
  {
   "cell_type": "markdown",
   "id": "6452c1f4-3ccc-4bcc-a916-3cb26de8fd35",
   "metadata": {},
   "source": [
    "### NPV\n",
    "NPV is the sum of the cash outflow at time = 0 and the PV of the cash inflow at time = 1."
   ]
  },
  {
   "cell_type": "code",
   "execution_count": 1,
   "id": "d51747fa-703e-459e-8f5c-132845f6f85c",
   "metadata": {},
   "outputs": [],
   "source": [
    "def D(c1, i=0.1):\n",
    "    '''discounting a cash flow at time = 1 w/ discount rate 1 + i'''\n",
    "    return c1 / (1 + i)"
   ]
  },
  {
   "cell_type": "code",
   "execution_count": 2,
   "id": "a0902f5a-2df9-400f-bfc5-692322accfbc",
   "metadata": {},
   "outputs": [],
   "source": [
    "def NPV(c):\n",
    "    return c[0] + D(c[1])"
   ]
  },
  {
   "cell_type": "code",
   "execution_count": 3,
   "id": "6dd8fae0-a644-4014-9815-1e5ad091a1a7",
   "metadata": {},
   "outputs": [],
   "source": [
    "cA = (-10.5, 12.1)\n",
    "cB = (-10.5, 11)"
   ]
  },
  {
   "cell_type": "code",
   "execution_count": 4,
   "id": "3911a0fb-e1d6-4a91-96ac-fedc2fd85609",
   "metadata": {},
   "outputs": [
    {
     "data": {
      "text/plain": [
       "0.4999999999999982"
      ]
     },
     "execution_count": 4,
     "metadata": {},
     "output_type": "execute_result"
    }
   ],
   "source": [
    "NPV(cA)"
   ]
  },
  {
   "cell_type": "code",
   "execution_count": 5,
   "id": "d7844699-4ab6-44e5-abd0-5c476edcd71f",
   "metadata": {},
   "outputs": [
    {
     "data": {
      "text/plain": [
       "-0.5"
      ]
     },
     "execution_count": 5,
     "metadata": {},
     "output_type": "execute_result"
    }
   ],
   "source": [
    "NPV(cB)"
   ]
  },
  {
   "cell_type": "markdown",
   "id": "e0918760-4e52-4f5d-b728-ebe0cd3ef5ab",
   "metadata": {},
   "source": [
    "### Uncertainty"
   ]
  },
  {
   "cell_type": "code",
   "execution_count": 6,
   "id": "89ef7a3b-90e5-4e7f-ad1e-0c5885a97c62",
   "metadata": {},
   "outputs": [],
   "source": [
    "import numpy as np"
   ]
  },
  {
   "cell_type": "code",
   "execution_count": 7,
   "id": "fc7aa45c-bd8f-435a-a162-6709ef1c881c",
   "metadata": {},
   "outputs": [],
   "source": [
    "# consider an investment with c_0 = -10 and c_1 = (20, 5), where the tuple represents the two-state economy\n",
    "c0 = -10\n",
    "c1 = np.array((20, 5))"
   ]
  },
  {
   "cell_type": "code",
   "execution_count": 8,
   "id": "74a708c0-a016-4d69-b3b6-89928ff7286d",
   "metadata": {},
   "outputs": [
    {
     "data": {
      "text/plain": [
       "numpy.ndarray"
      ]
     },
     "execution_count": 8,
     "metadata": {},
     "output_type": "execute_result"
    }
   ],
   "source": [
    "type(c1)"
   ]
  },
  {
   "cell_type": "code",
   "execution_count": 9,
   "id": "c0256954-4f36-44fd-be6c-7c3f13de446b",
   "metadata": {},
   "outputs": [],
   "source": [
    "c = (c0, c1)"
   ]
  },
  {
   "cell_type": "code",
   "execution_count": 10,
   "id": "b350a972-23a8-467d-8652-033d68e87043",
   "metadata": {},
   "outputs": [
    {
     "data": {
      "text/plain": [
       "(-10, array([20,  5]))"
      ]
     },
     "execution_count": 10,
     "metadata": {},
     "output_type": "execute_result"
    }
   ],
   "source": [
    "c"
   ]
  },
  {
   "cell_type": "code",
   "execution_count": 11,
   "id": "69ee8d60-7b82-4723-a2ca-2ee08ad18d62",
   "metadata": {},
   "outputs": [
    {
     "data": {
      "text/plain": [
       "array([32. ,  9.5])"
      ]
     },
     "execution_count": 11,
     "metadata": {},
     "output_type": "execute_result"
    }
   ],
   "source": [
    "1.5 * c1 + 2"
   ]
  },
  {
   "cell_type": "code",
   "execution_count": 12,
   "id": "f9ec0cf5-a901-4bf6-931a-e884a34925f9",
   "metadata": {},
   "outputs": [
    {
     "data": {
      "text/plain": [
       "array([35., 11.])"
      ]
     },
     "execution_count": 12,
     "metadata": {},
     "output_type": "execute_result"
    }
   ],
   "source": [
    "c1 + 1.5 * np.array((10, 4))"
   ]
  },
  {
   "cell_type": "markdown",
   "id": "4eac6529-94e7-47d3-95cc-e485c62d8b46",
   "metadata": {},
   "source": [
    "### Financial Assets"
   ]
  },
  {
   "cell_type": "code",
   "execution_count": 13,
   "id": "a96f44c1-bbfe-4209-a811-c8e38e27e57b",
   "metadata": {},
   "outputs": [],
   "source": [
    "S0 = 10\n",
    "S1 = np.array((12.5, 7.5))"
   ]
  },
  {
   "cell_type": "code",
   "execution_count": 14,
   "id": "c8f1662a-a936-47ae-8f93-0e2db4a4bbb7",
   "metadata": {},
   "outputs": [],
   "source": [
    "S = (S0, S1)"
   ]
  },
  {
   "cell_type": "code",
   "execution_count": 15,
   "id": "43e64145-bcd7-4de2-b193-bf3ebc92d37d",
   "metadata": {},
   "outputs": [
    {
     "data": {
      "text/plain": [
       "(10, array([12.5,  7.5]))"
      ]
     },
     "execution_count": 15,
     "metadata": {},
     "output_type": "execute_result"
    }
   ],
   "source": [
    "S"
   ]
  },
  {
   "cell_type": "code",
   "execution_count": 16,
   "id": "1df130ff-1d74-40e4-b3bb-ac87d1f16e50",
   "metadata": {},
   "outputs": [
    {
     "data": {
      "text/plain": [
       "10"
      ]
     },
     "execution_count": 16,
     "metadata": {},
     "output_type": "execute_result"
    }
   ],
   "source": [
    "S[0]"
   ]
  },
  {
   "cell_type": "code",
   "execution_count": null,
   "id": "d82dcc14-b765-407b-a873-533dbe8da145",
   "metadata": {},
   "outputs": [],
   "source": []
  }
 ],
 "metadata": {
  "kernelspec": {
   "display_name": "Python 3 (ipykernel)",
   "language": "python",
   "name": "python3"
  },
  "language_info": {
   "codemirror_mode": {
    "name": "ipython",
    "version": 3
   },
   "file_extension": ".py",
   "mimetype": "text/x-python",
   "name": "python",
   "nbconvert_exporter": "python",
   "pygments_lexer": "ipython3",
   "version": "3.9.15"
  }
 },
 "nbformat": 4,
 "nbformat_minor": 5
}
